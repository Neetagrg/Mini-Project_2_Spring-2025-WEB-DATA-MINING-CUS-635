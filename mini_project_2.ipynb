{
  "nbformat": 4,
  "nbformat_minor": 0,
  "metadata": {
    "colab": {
      "provenance": [],
      "authorship_tag": "ABX9TyNJ62rh0GdCpSOqXzUPxVSn",
      "include_colab_link": true
    },
    "kernelspec": {
      "name": "python3",
      "display_name": "Python 3"
    },
    "language_info": {
      "name": "python"
    }
  },
  "cells": [
    {
      "cell_type": "markdown",
      "metadata": {
        "id": "view-in-github",
        "colab_type": "text"
      },
      "source": [
        "<a href=\"https://colab.research.google.com/github/Neetagrg/Mini-Project_2_Spring-2025-WEB-DATA-MINING-CUS-635/blob/main/mini_project_2.ipynb\" target=\"_parent\"><img src=\"https://colab.research.google.com/assets/colab-badge.svg\" alt=\"Open In Colab\"/></a>"
      ]
    },
    {
      "cell_type": "markdown",
      "source": [
        "# Mini Project 2: Neeta Kumari & Bir Bahadur Gharti Class CUS635"
      ],
      "metadata": {
        "id": "GRV-IkY3Wtua"
      }
    },
    {
      "cell_type": "markdown",
      "source": [
        "# Install Libraries"
      ],
      "metadata": {
        "id": "OZJm6XB6WvcP"
      }
    },
    {
      "cell_type": "code",
      "source": [
        "!pip install boto3 requests pandas\n"
      ],
      "metadata": {
        "id": "5L_OsvAzrztP",
        "outputId": "2c27eda8-ac13-4173-ac2f-b9204a0789f2",
        "colab": {
          "base_uri": "https://localhost:8080/"
        }
      },
      "execution_count": 81,
      "outputs": [
        {
          "output_type": "stream",
          "name": "stdout",
          "text": [
            "Requirement already satisfied: boto3 in /usr/local/lib/python3.11/dist-packages (1.38.5)\n",
            "Requirement already satisfied: requests in /usr/local/lib/python3.11/dist-packages (2.32.3)\n",
            "Requirement already satisfied: pandas in /usr/local/lib/python3.11/dist-packages (2.2.2)\n",
            "Requirement already satisfied: botocore<1.39.0,>=1.38.5 in /usr/local/lib/python3.11/dist-packages (from boto3) (1.38.5)\n",
            "Requirement already satisfied: jmespath<2.0.0,>=0.7.1 in /usr/local/lib/python3.11/dist-packages (from boto3) (1.0.1)\n",
            "Requirement already satisfied: s3transfer<0.13.0,>=0.12.0 in /usr/local/lib/python3.11/dist-packages (from boto3) (0.12.0)\n",
            "Requirement already satisfied: charset-normalizer<4,>=2 in /usr/local/lib/python3.11/dist-packages (from requests) (3.4.1)\n",
            "Requirement already satisfied: idna<4,>=2.5 in /usr/local/lib/python3.11/dist-packages (from requests) (3.10)\n",
            "Requirement already satisfied: urllib3<3,>=1.21.1 in /usr/local/lib/python3.11/dist-packages (from requests) (2.4.0)\n",
            "Requirement already satisfied: certifi>=2017.4.17 in /usr/local/lib/python3.11/dist-packages (from requests) (2025.1.31)\n",
            "Requirement already satisfied: numpy>=1.23.2 in /usr/local/lib/python3.11/dist-packages (from pandas) (2.0.2)\n",
            "Requirement already satisfied: python-dateutil>=2.8.2 in /usr/local/lib/python3.11/dist-packages (from pandas) (2.9.0.post0)\n",
            "Requirement already satisfied: pytz>=2020.1 in /usr/local/lib/python3.11/dist-packages (from pandas) (2025.2)\n",
            "Requirement already satisfied: tzdata>=2022.7 in /usr/local/lib/python3.11/dist-packages (from pandas) (2025.2)\n",
            "Requirement already satisfied: six>=1.5 in /usr/local/lib/python3.11/dist-packages (from python-dateutil>=2.8.2->pandas) (1.17.0)\n"
          ]
        }
      ]
    },
    {
      "cell_type": "markdown",
      "source": [
        "# Import Libraries"
      ],
      "metadata": {
        "id": "leD0zGmCr57I"
      }
    },
    {
      "cell_type": "code",
      "source": [
        "import boto3\n",
        "from botocore.config import Config\n",
        "from botocore import UNSIGNED\n",
        "import pandas as pd\n",
        "import requests\n",
        "import json\n"
      ],
      "metadata": {
        "id": "B25xkcD5r8BO"
      },
      "execution_count": 82,
      "outputs": []
    },
    {
      "cell_type": "markdown",
      "source": [
        "# Set Up AWS S3 Client"
      ],
      "metadata": {
        "id": "TvOO14z1r-16"
      }
    },
    {
      "cell_type": "code",
      "source": [
        "# constants\n",
        "TEAM_FOLDER = \"TEAM_6/\"\n",
        "BUCKET_NAME = \"cus635-spring2025\"\n",
        "\n",
        "# Anonymous S3 client\n",
        "s3 = boto3.client('s3', config=Config(signature_version=UNSIGNED))\n"
      ],
      "metadata": {
        "id": "UrmLNYOCsBWI"
      },
      "execution_count": 83,
      "outputs": []
    },
    {
      "cell_type": "markdown",
      "source": [
        "# Download a File from S3"
      ],
      "metadata": {
        "id": "NOU6KpuosETt"
      }
    },
    {
      "cell_type": "code",
      "source": [
        "# file path in S3\n",
        "filename = TEAM_FOLDER + \"Financial_Articles.csv\"\n",
        "\n",
        "# Download the file and save locally\n",
        "s3.download_file(BUCKET_NAME, filename, \"local_copy.csv\")\n",
        "\n",
        "print(\"Download complete: local_copy.csv\")\n"
      ],
      "metadata": {
        "id": "ZjVuvZfxsFJN",
        "outputId": "18ff1b15-13f4-4121-bca8-5135a5387a24",
        "colab": {
          "base_uri": "https://localhost:8080/"
        }
      },
      "execution_count": 84,
      "outputs": [
        {
          "output_type": "stream",
          "name": "stdout",
          "text": [
            "Download complete: local_copy.csv\n"
          ]
        }
      ]
    },
    {
      "cell_type": "code",
      "source": [
        "# Load the CSV into a DataFrame\n",
        "df = pd.read_csv(\"local_copy.csv\")\n",
        "\n",
        "# Display the first 5 rows\n",
        "df.head()\n"
      ],
      "metadata": {
        "id": "xQ_H-3JYtKUn",
        "outputId": "9bbbcf6d-139c-4dd7-b9fc-53af114a4bef",
        "colab": {
          "base_uri": "https://localhost:8080/",
          "height": 206
        }
      },
      "execution_count": 85,
      "outputs": [
        {
          "output_type": "execute_result",
          "data": {
            "text/plain": [
              "                                             heading  \\\n",
              "0  Motor finance compensation ruling ‘goes too fa...   \n",
              "1  Supreme court judges reject Reeves’ motor fina...   \n",
              "2  Car finance firm Close Brothers slumps to loss...   \n",
              "3  Chief finance officer of under-fire Thames Wat...   \n",
              "4  Car finance scandal: lender sets aside £165m f...   \n",
              "\n",
              "                                             context  \n",
              "0  <p>A court of appeal ruling that has left lend...  \n",
              "1  <p>Rachel Reeves was dealt a fresh blow on Mon...  \n",
              "2  <p>Close Brothers, one of the UK’s biggest pro...  \n",
              "3  <p>Thames Water’s chief financial officer has ...  \n",
              "4  <p>One of the UK’s biggest providers of motor ...  "
            ],
            "text/html": [
              "\n",
              "  <div id=\"df-29d703cf-b841-46c9-9194-e8fb9e78c9c6\" class=\"colab-df-container\">\n",
              "    <div>\n",
              "<style scoped>\n",
              "    .dataframe tbody tr th:only-of-type {\n",
              "        vertical-align: middle;\n",
              "    }\n",
              "\n",
              "    .dataframe tbody tr th {\n",
              "        vertical-align: top;\n",
              "    }\n",
              "\n",
              "    .dataframe thead th {\n",
              "        text-align: right;\n",
              "    }\n",
              "</style>\n",
              "<table border=\"1\" class=\"dataframe\">\n",
              "  <thead>\n",
              "    <tr style=\"text-align: right;\">\n",
              "      <th></th>\n",
              "      <th>heading</th>\n",
              "      <th>context</th>\n",
              "    </tr>\n",
              "  </thead>\n",
              "  <tbody>\n",
              "    <tr>\n",
              "      <th>0</th>\n",
              "      <td>Motor finance compensation ruling ‘goes too fa...</td>\n",
              "      <td>&lt;p&gt;A court of appeal ruling that has left lend...</td>\n",
              "    </tr>\n",
              "    <tr>\n",
              "      <th>1</th>\n",
              "      <td>Supreme court judges reject Reeves’ motor fina...</td>\n",
              "      <td>&lt;p&gt;Rachel Reeves was dealt a fresh blow on Mon...</td>\n",
              "    </tr>\n",
              "    <tr>\n",
              "      <th>2</th>\n",
              "      <td>Car finance firm Close Brothers slumps to loss...</td>\n",
              "      <td>&lt;p&gt;Close Brothers, one of the UK’s biggest pro...</td>\n",
              "    </tr>\n",
              "    <tr>\n",
              "      <th>3</th>\n",
              "      <td>Chief finance officer of under-fire Thames Wat...</td>\n",
              "      <td>&lt;p&gt;Thames Water’s chief financial officer has ...</td>\n",
              "    </tr>\n",
              "    <tr>\n",
              "      <th>4</th>\n",
              "      <td>Car finance scandal: lender sets aside £165m f...</td>\n",
              "      <td>&lt;p&gt;One of the UK’s biggest providers of motor ...</td>\n",
              "    </tr>\n",
              "  </tbody>\n",
              "</table>\n",
              "</div>\n",
              "    <div class=\"colab-df-buttons\">\n",
              "\n",
              "  <div class=\"colab-df-container\">\n",
              "    <button class=\"colab-df-convert\" onclick=\"convertToInteractive('df-29d703cf-b841-46c9-9194-e8fb9e78c9c6')\"\n",
              "            title=\"Convert this dataframe to an interactive table.\"\n",
              "            style=\"display:none;\">\n",
              "\n",
              "  <svg xmlns=\"http://www.w3.org/2000/svg\" height=\"24px\" viewBox=\"0 -960 960 960\">\n",
              "    <path d=\"M120-120v-720h720v720H120Zm60-500h600v-160H180v160Zm220 220h160v-160H400v160Zm0 220h160v-160H400v160ZM180-400h160v-160H180v160Zm440 0h160v-160H620v160ZM180-180h160v-160H180v160Zm440 0h160v-160H620v160Z\"/>\n",
              "  </svg>\n",
              "    </button>\n",
              "\n",
              "  <style>\n",
              "    .colab-df-container {\n",
              "      display:flex;\n",
              "      gap: 12px;\n",
              "    }\n",
              "\n",
              "    .colab-df-convert {\n",
              "      background-color: #E8F0FE;\n",
              "      border: none;\n",
              "      border-radius: 50%;\n",
              "      cursor: pointer;\n",
              "      display: none;\n",
              "      fill: #1967D2;\n",
              "      height: 32px;\n",
              "      padding: 0 0 0 0;\n",
              "      width: 32px;\n",
              "    }\n",
              "\n",
              "    .colab-df-convert:hover {\n",
              "      background-color: #E2EBFA;\n",
              "      box-shadow: 0px 1px 2px rgba(60, 64, 67, 0.3), 0px 1px 3px 1px rgba(60, 64, 67, 0.15);\n",
              "      fill: #174EA6;\n",
              "    }\n",
              "\n",
              "    .colab-df-buttons div {\n",
              "      margin-bottom: 4px;\n",
              "    }\n",
              "\n",
              "    [theme=dark] .colab-df-convert {\n",
              "      background-color: #3B4455;\n",
              "      fill: #D2E3FC;\n",
              "    }\n",
              "\n",
              "    [theme=dark] .colab-df-convert:hover {\n",
              "      background-color: #434B5C;\n",
              "      box-shadow: 0px 1px 3px 1px rgba(0, 0, 0, 0.15);\n",
              "      filter: drop-shadow(0px 1px 2px rgba(0, 0, 0, 0.3));\n",
              "      fill: #FFFFFF;\n",
              "    }\n",
              "  </style>\n",
              "\n",
              "    <script>\n",
              "      const buttonEl =\n",
              "        document.querySelector('#df-29d703cf-b841-46c9-9194-e8fb9e78c9c6 button.colab-df-convert');\n",
              "      buttonEl.style.display =\n",
              "        google.colab.kernel.accessAllowed ? 'block' : 'none';\n",
              "\n",
              "      async function convertToInteractive(key) {\n",
              "        const element = document.querySelector('#df-29d703cf-b841-46c9-9194-e8fb9e78c9c6');\n",
              "        const dataTable =\n",
              "          await google.colab.kernel.invokeFunction('convertToInteractive',\n",
              "                                                    [key], {});\n",
              "        if (!dataTable) return;\n",
              "\n",
              "        const docLinkHtml = 'Like what you see? Visit the ' +\n",
              "          '<a target=\"_blank\" href=https://colab.research.google.com/notebooks/data_table.ipynb>data table notebook</a>'\n",
              "          + ' to learn more about interactive tables.';\n",
              "        element.innerHTML = '';\n",
              "        dataTable['output_type'] = 'display_data';\n",
              "        await google.colab.output.renderOutput(dataTable, element);\n",
              "        const docLink = document.createElement('div');\n",
              "        docLink.innerHTML = docLinkHtml;\n",
              "        element.appendChild(docLink);\n",
              "      }\n",
              "    </script>\n",
              "  </div>\n",
              "\n",
              "\n",
              "    <div id=\"df-a4762189-9657-42c5-9304-f2bb86271f84\">\n",
              "      <button class=\"colab-df-quickchart\" onclick=\"quickchart('df-a4762189-9657-42c5-9304-f2bb86271f84')\"\n",
              "                title=\"Suggest charts\"\n",
              "                style=\"display:none;\">\n",
              "\n",
              "<svg xmlns=\"http://www.w3.org/2000/svg\" height=\"24px\"viewBox=\"0 0 24 24\"\n",
              "     width=\"24px\">\n",
              "    <g>\n",
              "        <path d=\"M19 3H5c-1.1 0-2 .9-2 2v14c0 1.1.9 2 2 2h14c1.1 0 2-.9 2-2V5c0-1.1-.9-2-2-2zM9 17H7v-7h2v7zm4 0h-2V7h2v10zm4 0h-2v-4h2v4z\"/>\n",
              "    </g>\n",
              "</svg>\n",
              "      </button>\n",
              "\n",
              "<style>\n",
              "  .colab-df-quickchart {\n",
              "      --bg-color: #E8F0FE;\n",
              "      --fill-color: #1967D2;\n",
              "      --hover-bg-color: #E2EBFA;\n",
              "      --hover-fill-color: #174EA6;\n",
              "      --disabled-fill-color: #AAA;\n",
              "      --disabled-bg-color: #DDD;\n",
              "  }\n",
              "\n",
              "  [theme=dark] .colab-df-quickchart {\n",
              "      --bg-color: #3B4455;\n",
              "      --fill-color: #D2E3FC;\n",
              "      --hover-bg-color: #434B5C;\n",
              "      --hover-fill-color: #FFFFFF;\n",
              "      --disabled-bg-color: #3B4455;\n",
              "      --disabled-fill-color: #666;\n",
              "  }\n",
              "\n",
              "  .colab-df-quickchart {\n",
              "    background-color: var(--bg-color);\n",
              "    border: none;\n",
              "    border-radius: 50%;\n",
              "    cursor: pointer;\n",
              "    display: none;\n",
              "    fill: var(--fill-color);\n",
              "    height: 32px;\n",
              "    padding: 0;\n",
              "    width: 32px;\n",
              "  }\n",
              "\n",
              "  .colab-df-quickchart:hover {\n",
              "    background-color: var(--hover-bg-color);\n",
              "    box-shadow: 0 1px 2px rgba(60, 64, 67, 0.3), 0 1px 3px 1px rgba(60, 64, 67, 0.15);\n",
              "    fill: var(--button-hover-fill-color);\n",
              "  }\n",
              "\n",
              "  .colab-df-quickchart-complete:disabled,\n",
              "  .colab-df-quickchart-complete:disabled:hover {\n",
              "    background-color: var(--disabled-bg-color);\n",
              "    fill: var(--disabled-fill-color);\n",
              "    box-shadow: none;\n",
              "  }\n",
              "\n",
              "  .colab-df-spinner {\n",
              "    border: 2px solid var(--fill-color);\n",
              "    border-color: transparent;\n",
              "    border-bottom-color: var(--fill-color);\n",
              "    animation:\n",
              "      spin 1s steps(1) infinite;\n",
              "  }\n",
              "\n",
              "  @keyframes spin {\n",
              "    0% {\n",
              "      border-color: transparent;\n",
              "      border-bottom-color: var(--fill-color);\n",
              "      border-left-color: var(--fill-color);\n",
              "    }\n",
              "    20% {\n",
              "      border-color: transparent;\n",
              "      border-left-color: var(--fill-color);\n",
              "      border-top-color: var(--fill-color);\n",
              "    }\n",
              "    30% {\n",
              "      border-color: transparent;\n",
              "      border-left-color: var(--fill-color);\n",
              "      border-top-color: var(--fill-color);\n",
              "      border-right-color: var(--fill-color);\n",
              "    }\n",
              "    40% {\n",
              "      border-color: transparent;\n",
              "      border-right-color: var(--fill-color);\n",
              "      border-top-color: var(--fill-color);\n",
              "    }\n",
              "    60% {\n",
              "      border-color: transparent;\n",
              "      border-right-color: var(--fill-color);\n",
              "    }\n",
              "    80% {\n",
              "      border-color: transparent;\n",
              "      border-right-color: var(--fill-color);\n",
              "      border-bottom-color: var(--fill-color);\n",
              "    }\n",
              "    90% {\n",
              "      border-color: transparent;\n",
              "      border-bottom-color: var(--fill-color);\n",
              "    }\n",
              "  }\n",
              "</style>\n",
              "\n",
              "      <script>\n",
              "        async function quickchart(key) {\n",
              "          const quickchartButtonEl =\n",
              "            document.querySelector('#' + key + ' button');\n",
              "          quickchartButtonEl.disabled = true;  // To prevent multiple clicks.\n",
              "          quickchartButtonEl.classList.add('colab-df-spinner');\n",
              "          try {\n",
              "            const charts = await google.colab.kernel.invokeFunction(\n",
              "                'suggestCharts', [key], {});\n",
              "          } catch (error) {\n",
              "            console.error('Error during call to suggestCharts:', error);\n",
              "          }\n",
              "          quickchartButtonEl.classList.remove('colab-df-spinner');\n",
              "          quickchartButtonEl.classList.add('colab-df-quickchart-complete');\n",
              "        }\n",
              "        (() => {\n",
              "          let quickchartButtonEl =\n",
              "            document.querySelector('#df-a4762189-9657-42c5-9304-f2bb86271f84 button');\n",
              "          quickchartButtonEl.style.display =\n",
              "            google.colab.kernel.accessAllowed ? 'block' : 'none';\n",
              "        })();\n",
              "      </script>\n",
              "    </div>\n",
              "\n",
              "    </div>\n",
              "  </div>\n"
            ],
            "application/vnd.google.colaboratory.intrinsic+json": {
              "type": "dataframe",
              "variable_name": "df",
              "summary": "{\n  \"name\": \"df\",\n  \"rows\": 1000,\n  \"fields\": [\n    {\n      \"column\": \"heading\",\n      \"properties\": {\n        \"dtype\": \"string\",\n        \"num_unique_values\": 998,\n        \"samples\": [\n          \"BMW announces \\u00a3600m package to save Oxford Mini plant\",\n          \"Deloitte declines to tell Senate which government department\\u2019s information it leaked internally\",\n          \"UK borrowing jumps unexpectedly, adding to pressure on Rachel Reeves\"\n        ],\n        \"semantic_type\": \"\",\n        \"description\": \"\"\n      }\n    },\n    {\n      \"column\": \"context\",\n      \"properties\": {\n        \"dtype\": \"string\",\n        \"num_unique_values\": 1000,\n        \"samples\": [\n          \"<p>The rainbow flag flew above the Bourne Corn Exchange as South Kesteven council embraced LGBT history month.</p> <p>A year after voting against such a gesture the Lincolnshire local authority declared itself pleased \\u201cto celebrate and recognise the [\\u2026] rights of lesbian, gay, bisexual and transgender people\\u201d, hoisting the flag outside its headquarters in 2019.</p> <p>Across Britain, many other councils regularly follow suit, showing solidarity with their LGBT residents through their support of ...\",\n          \"<p>The Confederation of British Industry has announced it is to mothball its operations until June after the Guardian\\u2019s revelations about <a href=\\\"https://www.theguardian.com/business/2023/apr/21/second-woman-claims-she-was-raped-by-colleagues-while-working-at-cbi\\\">alleged sexual misconduct by male employees at the lobbying group</a> led to an exodus of businesses including John Lewis and NatWest.</p> <p>The CBI\\u2019s board said it was suspending all membership and policy activity until an extraordi...\",\n          \"<p>The boss of Harvey Nichols has quit the retailer she first joined 25 years ago after tensions over its strategy and a member of the owning family will take the reins.</p> <p>Manju Malhotra started at the Knightsbridge store in London in 1998 as a newly qualified accountant and worked her way up through the ranks before becoming chief executive in January 2020, just before the pandemic <a href=\\\"https://www.theguardian.com/business/2020/mar/20/marks-and-spencer-considers-temporary-store-closure...\"\n        ],\n        \"semantic_type\": \"\",\n        \"description\": \"\"\n      }\n    }\n  ]\n}"
            }
          },
          "metadata": {},
          "execution_count": 85
        }
      ]
    },
    {
      "cell_type": "markdown",
      "source": [
        "# DocumentProcessor class"
      ],
      "metadata": {
        "id": "9mQjFUvttyuj"
      }
    },
    {
      "cell_type": "code",
      "source": [
        "!pip install pinecone sentence-transformers tokenizers\n"
      ],
      "metadata": {
        "collapsed": true,
        "id": "JiHpu3bLt0jM",
        "outputId": "5435ac55-8549-40f2-d7be-05b396752ef6",
        "colab": {
          "base_uri": "https://localhost:8080/"
        }
      },
      "execution_count": 86,
      "outputs": [
        {
          "output_type": "stream",
          "name": "stdout",
          "text": [
            "Requirement already satisfied: pinecone in /usr/local/lib/python3.11/dist-packages (6.0.2)\n",
            "Requirement already satisfied: sentence-transformers in /usr/local/lib/python3.11/dist-packages (3.4.1)\n",
            "Requirement already satisfied: tokenizers in /usr/local/lib/python3.11/dist-packages (0.21.1)\n",
            "Requirement already satisfied: certifi>=2019.11.17 in /usr/local/lib/python3.11/dist-packages (from pinecone) (2025.1.31)\n",
            "Requirement already satisfied: pinecone-plugin-interface<0.0.8,>=0.0.7 in /usr/local/lib/python3.11/dist-packages (from pinecone) (0.0.7)\n",
            "Requirement already satisfied: python-dateutil>=2.5.3 in /usr/local/lib/python3.11/dist-packages (from pinecone) (2.9.0.post0)\n",
            "Requirement already satisfied: typing-extensions>=3.7.4 in /usr/local/lib/python3.11/dist-packages (from pinecone) (4.13.2)\n",
            "Requirement already satisfied: urllib3>=1.26.0 in /usr/local/lib/python3.11/dist-packages (from pinecone) (2.4.0)\n",
            "Requirement already satisfied: transformers<5.0.0,>=4.41.0 in /usr/local/lib/python3.11/dist-packages (from sentence-transformers) (4.51.3)\n",
            "Requirement already satisfied: tqdm in /usr/local/lib/python3.11/dist-packages (from sentence-transformers) (4.67.1)\n",
            "Requirement already satisfied: torch>=1.11.0 in /usr/local/lib/python3.11/dist-packages (from sentence-transformers) (2.6.0+cu124)\n",
            "Requirement already satisfied: scikit-learn in /usr/local/lib/python3.11/dist-packages (from sentence-transformers) (1.6.1)\n",
            "Requirement already satisfied: scipy in /usr/local/lib/python3.11/dist-packages (from sentence-transformers) (1.15.2)\n",
            "Requirement already satisfied: huggingface-hub>=0.20.0 in /usr/local/lib/python3.11/dist-packages (from sentence-transformers) (0.30.2)\n",
            "Requirement already satisfied: Pillow in /usr/local/lib/python3.11/dist-packages (from sentence-transformers) (11.2.1)\n",
            "Requirement already satisfied: filelock in /usr/local/lib/python3.11/dist-packages (from huggingface-hub>=0.20.0->sentence-transformers) (3.18.0)\n",
            "Requirement already satisfied: fsspec>=2023.5.0 in /usr/local/lib/python3.11/dist-packages (from huggingface-hub>=0.20.0->sentence-transformers) (2025.3.2)\n",
            "Requirement already satisfied: packaging>=20.9 in /usr/local/lib/python3.11/dist-packages (from huggingface-hub>=0.20.0->sentence-transformers) (24.2)\n",
            "Requirement already satisfied: pyyaml>=5.1 in /usr/local/lib/python3.11/dist-packages (from huggingface-hub>=0.20.0->sentence-transformers) (6.0.2)\n",
            "Requirement already satisfied: requests in /usr/local/lib/python3.11/dist-packages (from huggingface-hub>=0.20.0->sentence-transformers) (2.32.3)\n",
            "Requirement already satisfied: six>=1.5 in /usr/local/lib/python3.11/dist-packages (from python-dateutil>=2.5.3->pinecone) (1.17.0)\n",
            "Requirement already satisfied: networkx in /usr/local/lib/python3.11/dist-packages (from torch>=1.11.0->sentence-transformers) (3.4.2)\n",
            "Requirement already satisfied: jinja2 in /usr/local/lib/python3.11/dist-packages (from torch>=1.11.0->sentence-transformers) (3.1.6)\n",
            "Requirement already satisfied: nvidia-cuda-nvrtc-cu12==12.4.127 in /usr/local/lib/python3.11/dist-packages (from torch>=1.11.0->sentence-transformers) (12.4.127)\n",
            "Requirement already satisfied: nvidia-cuda-runtime-cu12==12.4.127 in /usr/local/lib/python3.11/dist-packages (from torch>=1.11.0->sentence-transformers) (12.4.127)\n",
            "Requirement already satisfied: nvidia-cuda-cupti-cu12==12.4.127 in /usr/local/lib/python3.11/dist-packages (from torch>=1.11.0->sentence-transformers) (12.4.127)\n",
            "Requirement already satisfied: nvidia-cudnn-cu12==9.1.0.70 in /usr/local/lib/python3.11/dist-packages (from torch>=1.11.0->sentence-transformers) (9.1.0.70)\n",
            "Requirement already satisfied: nvidia-cublas-cu12==12.4.5.8 in /usr/local/lib/python3.11/dist-packages (from torch>=1.11.0->sentence-transformers) (12.4.5.8)\n",
            "Requirement already satisfied: nvidia-cufft-cu12==11.2.1.3 in /usr/local/lib/python3.11/dist-packages (from torch>=1.11.0->sentence-transformers) (11.2.1.3)\n",
            "Requirement already satisfied: nvidia-curand-cu12==10.3.5.147 in /usr/local/lib/python3.11/dist-packages (from torch>=1.11.0->sentence-transformers) (10.3.5.147)\n",
            "Requirement already satisfied: nvidia-cusolver-cu12==11.6.1.9 in /usr/local/lib/python3.11/dist-packages (from torch>=1.11.0->sentence-transformers) (11.6.1.9)\n",
            "Requirement already satisfied: nvidia-cusparse-cu12==12.3.1.170 in /usr/local/lib/python3.11/dist-packages (from torch>=1.11.0->sentence-transformers) (12.3.1.170)\n",
            "Requirement already satisfied: nvidia-cusparselt-cu12==0.6.2 in /usr/local/lib/python3.11/dist-packages (from torch>=1.11.0->sentence-transformers) (0.6.2)\n",
            "Requirement already satisfied: nvidia-nccl-cu12==2.21.5 in /usr/local/lib/python3.11/dist-packages (from torch>=1.11.0->sentence-transformers) (2.21.5)\n",
            "Requirement already satisfied: nvidia-nvtx-cu12==12.4.127 in /usr/local/lib/python3.11/dist-packages (from torch>=1.11.0->sentence-transformers) (12.4.127)\n",
            "Requirement already satisfied: nvidia-nvjitlink-cu12==12.4.127 in /usr/local/lib/python3.11/dist-packages (from torch>=1.11.0->sentence-transformers) (12.4.127)\n",
            "Requirement already satisfied: triton==3.2.0 in /usr/local/lib/python3.11/dist-packages (from torch>=1.11.0->sentence-transformers) (3.2.0)\n",
            "Requirement already satisfied: sympy==1.13.1 in /usr/local/lib/python3.11/dist-packages (from torch>=1.11.0->sentence-transformers) (1.13.1)\n",
            "Requirement already satisfied: mpmath<1.4,>=1.1.0 in /usr/local/lib/python3.11/dist-packages (from sympy==1.13.1->torch>=1.11.0->sentence-transformers) (1.3.0)\n",
            "Requirement already satisfied: numpy>=1.17 in /usr/local/lib/python3.11/dist-packages (from transformers<5.0.0,>=4.41.0->sentence-transformers) (2.0.2)\n",
            "Requirement already satisfied: regex!=2019.12.17 in /usr/local/lib/python3.11/dist-packages (from transformers<5.0.0,>=4.41.0->sentence-transformers) (2024.11.6)\n",
            "Requirement already satisfied: safetensors>=0.4.3 in /usr/local/lib/python3.11/dist-packages (from transformers<5.0.0,>=4.41.0->sentence-transformers) (0.5.3)\n",
            "Requirement already satisfied: joblib>=1.2.0 in /usr/local/lib/python3.11/dist-packages (from scikit-learn->sentence-transformers) (1.4.2)\n",
            "Requirement already satisfied: threadpoolctl>=3.1.0 in /usr/local/lib/python3.11/dist-packages (from scikit-learn->sentence-transformers) (3.6.0)\n",
            "Requirement already satisfied: MarkupSafe>=2.0 in /usr/local/lib/python3.11/dist-packages (from jinja2->torch>=1.11.0->sentence-transformers) (3.0.2)\n",
            "Requirement already satisfied: charset-normalizer<4,>=2 in /usr/local/lib/python3.11/dist-packages (from requests->huggingface-hub>=0.20.0->sentence-transformers) (3.4.1)\n",
            "Requirement already satisfied: idna<4,>=2.5 in /usr/local/lib/python3.11/dist-packages (from requests->huggingface-hub>=0.20.0->sentence-transformers) (3.10)\n"
          ]
        }
      ]
    },
    {
      "cell_type": "code",
      "source": [
        "!pip install pinecone\n",
        "from pinecone import Pinecone\n",
        "from sentence_transformers import SentenceTransformer\n",
        "from sentence_transformers.models import StaticEmbedding\n",
        "from tokenizers import Tokenizer\n",
        "from google.colab import userdata\n",
        "import numpy as np\n"
      ],
      "metadata": {
        "id": "AsgMsVYDuITR",
        "outputId": "b81f3107-2eff-41a5-c8e7-f3362dc7935b",
        "colab": {
          "base_uri": "https://localhost:8080/"
        }
      },
      "execution_count": 87,
      "outputs": [
        {
          "output_type": "stream",
          "name": "stdout",
          "text": [
            "Requirement already satisfied: pinecone in /usr/local/lib/python3.11/dist-packages (6.0.2)\n",
            "Requirement already satisfied: certifi>=2019.11.17 in /usr/local/lib/python3.11/dist-packages (from pinecone) (2025.1.31)\n",
            "Requirement already satisfied: pinecone-plugin-interface<0.0.8,>=0.0.7 in /usr/local/lib/python3.11/dist-packages (from pinecone) (0.0.7)\n",
            "Requirement already satisfied: python-dateutil>=2.5.3 in /usr/local/lib/python3.11/dist-packages (from pinecone) (2.9.0.post0)\n",
            "Requirement already satisfied: typing-extensions>=3.7.4 in /usr/local/lib/python3.11/dist-packages (from pinecone) (4.13.2)\n",
            "Requirement already satisfied: urllib3>=1.26.0 in /usr/local/lib/python3.11/dist-packages (from pinecone) (2.4.0)\n",
            "Requirement already satisfied: six>=1.5 in /usr/local/lib/python3.11/dist-packages (from python-dateutil>=2.5.3->pinecone) (1.17.0)\n"
          ]
        }
      ]
    },
    {
      "cell_type": "markdown",
      "source": [
        "# Initialize the Embedding Model"
      ],
      "metadata": {
        "id": "5QEtP0vD1D6z"
      }
    },
    {
      "cell_type": "markdown",
      "source": [
        "Used pre-trained model for embedding"
      ],
      "metadata": {
        "id": "BYcXjrxF133n"
      }
    },
    {
      "cell_type": "code",
      "source": [
        "from sentence_transformers import SentenceTransformer\n",
        "\n",
        "# Use a model designed for sentence embeddings\n",
        "model = SentenceTransformer('all-MiniLM-L6-v2')\n",
        "\n",
        "# Encode a sample sentence\n",
        "sentence = \"This is a test sentence.\"\n",
        "embedding = model.encode(sentence)\n",
        "\n",
        "# Print the embedding and its length\n",
        "print(\"Embedding length:\", len(embedding))\n",
        "print(\"Embedding vector:\", embedding)\n"
      ],
      "metadata": {
        "id": "UhI6lZg01E1n",
        "outputId": "9d38bffc-1c53-4c61-de26-9d74af7cda6c",
        "colab": {
          "base_uri": "https://localhost:8080/"
        }
      },
      "execution_count": 96,
      "outputs": [
        {
          "output_type": "stream",
          "name": "stdout",
          "text": [
            "Embedding length: 384\n",
            "Embedding vector: [ 8.42964426e-02  5.79536818e-02  4.49331291e-03  1.05821058e-01\n",
            "  7.08342018e-03 -1.78447124e-02 -1.68880876e-02 -1.52282650e-02\n",
            "  4.04730737e-02  3.34225371e-02  1.04327619e-01 -4.70358059e-02\n",
            "  6.88468805e-03  4.10179757e-02  1.87118910e-02 -4.14923429e-02\n",
            "  2.36474834e-02 -5.65018095e-02 -3.36962044e-02  5.09909838e-02\n",
            "  6.93032891e-02  5.47842607e-02 -9.78840794e-03  2.36971974e-02\n",
            "  1.99965239e-02  9.71731637e-03 -5.88991903e-02  7.30744842e-03\n",
            "  4.70264219e-02 -4.51010698e-03 -5.57997301e-02 -4.15945658e-03\n",
            "  6.47570938e-02  4.80762981e-02  1.70207899e-02 -3.18338140e-03\n",
            "  5.74023165e-02  3.52318846e-02 -5.88388927e-03  1.48328580e-02\n",
            "  1.15763284e-02 -1.07480824e-01  1.91041864e-02  2.20856816e-02\n",
            "  1.08645698e-02  3.78199434e-03 -3.19404006e-02  1.07278107e-02\n",
            " -4.84230556e-03 -2.83361971e-02 -5.25735579e-02 -7.05868229e-02\n",
            " -5.75557612e-02 -1.36328964e-02  5.68218576e-03  2.30746195e-02\n",
            "  3.56978104e-02  1.49984080e-02  4.97427024e-02  4.26283218e-02\n",
            " -3.45888957e-02 -2.43600272e-02 -7.15223998e-02  8.31247270e-02\n",
            "  1.48918957e-01  5.40180281e-02 -4.13382165e-02 -8.98984969e-02\n",
            " -4.45253141e-02  1.47391343e-02  2.23118886e-02  1.95735879e-02\n",
            "  4.36339602e-02  9.81225539e-03 -3.80727602e-03 -1.49928378e-02\n",
            " -6.99181692e-04 -1.12847380e-01  1.23841874e-01  5.55581599e-02\n",
            " -8.89101923e-02 -7.88500980e-02 -1.68932658e-02  4.59775478e-02\n",
            " -8.72694794e-03 -5.81383891e-02  7.65900686e-02 -3.43224593e-02\n",
            " -7.92425424e-02  2.17661615e-02 -3.42496298e-02 -2.64467411e-02\n",
            "  5.29809762e-03  4.52738348e-03 -5.10179773e-02 -1.65862311e-02\n",
            " -8.30451325e-02 -2.37133028e-03 -1.11335923e-03  4.30594385e-02\n",
            "  4.37792111e-03  2.54991110e-02  7.46889086e-03  6.31695911e-02\n",
            " -9.80584025e-02 -8.79312009e-02  3.53217532e-04 -5.76699227e-02\n",
            "  2.06373539e-02 -7.73533247e-03 -3.06464639e-02 -2.09900225e-03\n",
            "  5.95591776e-02  1.95796993e-02 -1.24725271e-02  9.70803574e-03\n",
            " -1.23177387e-01  2.59909369e-02 -1.57766100e-02  4.94350679e-02\n",
            "  6.15412183e-02  7.83011690e-02 -2.96914428e-02 -1.31865246e-02\n",
            " -6.23510182e-02 -8.06827322e-02  5.49654178e-02 -6.96258969e-33\n",
            " -2.58420873e-02 -6.67798296e-02  4.35139276e-02  7.39992037e-02\n",
            "  1.02592874e-02 -2.44536195e-02 -2.12488268e-02  6.83941543e-02\n",
            " -2.29248609e-02 -7.91440543e-05 -2.58232257e-03 -9.48836952e-02\n",
            "  1.33109158e-02  4.06304337e-02  8.56217444e-02  9.81819630e-02\n",
            " -7.66808018e-02  6.95324019e-02 -4.67462875e-02  5.55345975e-02\n",
            " -3.53191532e-02  3.81223559e-02 -1.84668154e-02 -6.54691756e-02\n",
            " -9.12842602e-02 -1.11914866e-01  2.20800983e-03  8.41347687e-03\n",
            " -4.70664911e-02  2.03569438e-02  1.06555521e-02  2.61043292e-02\n",
            " -2.67809164e-02  6.01193495e-02  2.02775076e-02  1.66951325e-02\n",
            "  3.52879576e-02 -7.81728476e-02 -2.58370265e-02  1.02496622e-02\n",
            " -6.14753626e-02 -2.84758471e-02 -1.02758259e-02  1.26738958e-02\n",
            "  9.54696536e-02 -1.21438950e-02 -1.42457737e-02 -2.61924472e-02\n",
            " -6.29927451e-03  2.21966840e-02 -2.60840468e-02  4.39434461e-02\n",
            "  7.36454055e-02 -3.33893448e-02  3.21775638e-02  6.46692365e-02\n",
            "  4.93194535e-02 -1.05321007e-02 -3.47278602e-02  6.57102391e-02\n",
            " -2.72232033e-02  6.03555851e-02 -6.00290596e-02  5.62708564e-02\n",
            "  6.80890866e-03  1.87107045e-02 -4.29099873e-02 -4.09596823e-02\n",
            "  5.29920124e-02  3.30944695e-02 -1.55465556e-02 -7.29866996e-02\n",
            " -5.08884192e-02  6.31101206e-02 -1.29772872e-02 -7.07978234e-02\n",
            "  1.48705905e-02  3.42567526e-02  8.29500705e-03  9.79069900e-03\n",
            "  2.34169029e-02 -1.12109445e-01  2.82359049e-02 -5.27850464e-02\n",
            " -9.38261151e-02 -5.61760506e-04 -1.93163380e-02 -8.85618776e-02\n",
            "  2.44562756e-02 -2.48155165e-02  1.29733533e-02  2.32091825e-02\n",
            "  3.92325819e-02 -3.37320231e-02  2.21173000e-02  2.89706423e-33\n",
            " -3.42554599e-02  6.55490458e-02 -7.17757195e-02  8.65404978e-02\n",
            "  8.71616229e-02 -3.01421043e-02  6.58367947e-02 -3.34099606e-02\n",
            " -3.74904871e-02  1.34898007e-01 -4.51038294e-02  3.30192298e-02\n",
            " -4.24036896e-03 -2.20895447e-02  3.93681861e-02  1.12861115e-02\n",
            "  1.08164987e-02 -4.90267612e-02 -1.82854868e-02 -2.39171889e-02\n",
            " -5.86305782e-02  1.26434654e-01  1.70784760e-02  1.01735599e-01\n",
            " -4.16656919e-02  3.73766525e-03  1.43009527e-02 -6.77731410e-02\n",
            " -7.40957260e-02  2.02464797e-02  2.11449005e-02 -3.38305421e-02\n",
            " -9.98555571e-02 -8.47213250e-03  1.07290298e-02  8.69125780e-03\n",
            "  1.02407798e-01 -7.64335468e-02 -5.17601110e-02  3.09732221e-02\n",
            "  4.11780970e-03  2.74708457e-02  6.67325035e-02  1.43498972e-01\n",
            "  1.36023462e-02  1.20410416e-02 -2.44526081e-02 -1.40914783e-01\n",
            " -4.33224253e-02  4.30766605e-02 -5.55888191e-02  2.39927787e-02\n",
            " -1.26895802e-02  1.73371490e-02 -6.77698106e-02  1.13578951e-02\n",
            " -3.18791941e-02 -2.96404995e-02 -2.50596758e-02 -2.26741377e-03\n",
            " -9.76274759e-02  6.03501052e-02  6.84161298e-03  3.21439505e-02\n",
            "  2.29486860e-02 -7.13614374e-02 -7.71940053e-02  9.53401923e-02\n",
            "  2.65478510e-02 -6.03252128e-02  1.02911048e-01  2.95908824e-02\n",
            " -1.08882353e-01 -2.48065293e-02 -3.32333669e-02 -8.23533237e-02\n",
            " -8.17733258e-02 -1.76423751e-02 -1.93137340e-02 -8.29819515e-02\n",
            " -1.80561487e-02 -5.32799847e-02  4.69951751e-03  1.52580356e-02\n",
            " -8.14497247e-02  3.85303982e-02 -4.42596711e-03 -2.79708561e-02\n",
            " -1.02035599e-02  4.42000069e-02 -1.69339236e-02 -5.51320948e-02\n",
            "  3.97405922e-02 -2.30483115e-02 -2.68448610e-02 -1.95805274e-08\n",
            " -1.86719932e-02 -1.17110517e-02  1.46479616e-02  6.65859412e-03\n",
            "  7.37122842e-04  6.25822246e-02  6.77657947e-02 -5.95501065e-03\n",
            " -3.05196475e-02 -8.19970446e-04  6.42959177e-02  6.64169639e-02\n",
            " -9.79511216e-02 -8.59205556e-06  6.03237115e-02 -2.74022799e-02\n",
            "  2.42515281e-02 -2.12564431e-02 -2.66952510e-03  8.42972323e-02\n",
            " -4.84722219e-02  4.77524661e-02  1.31909726e-02  4.64869887e-02\n",
            " -2.97930953e-03  4.41556163e-02  9.95891169e-02  6.42728060e-02\n",
            "  3.36076575e-03  4.49756235e-02  1.10251807e-01  6.42667711e-02\n",
            " -3.68151106e-02 -3.15479003e-02 -1.47666922e-02  8.22646767e-02\n",
            "  5.67150004e-02 -6.49479702e-02  2.30806693e-02  1.92347653e-02\n",
            " -5.15443571e-02  7.22279251e-02 -1.43920425e-02  7.81815574e-02\n",
            " -1.11626536e-02 -4.95682880e-02 -3.15908901e-02 -2.95475125e-02\n",
            " -1.51651008e-02 -5.39255217e-02 -8.85932148e-03  2.10647993e-02\n",
            "  4.50275876e-02 -2.28811949e-02  2.68128272e-02 -3.30654867e-02\n",
            " -3.49508878e-03 -3.04148868e-02 -7.15667233e-02  2.32957620e-02\n",
            "  8.97689387e-02  4.57112072e-03  8.18802267e-02 -9.90471020e-02]\n"
          ]
        }
      ]
    },
    {
      "cell_type": "markdown",
      "source": [
        "# Connect to Pinecone"
      ],
      "metadata": {
        "id": "jdo8WfDDybs3"
      }
    },
    {
      "cell_type": "code",
      "source": [
        "import os\n",
        "from pinecone import Pinecone\n",
        "\n",
        "# Pinecone API key\n",
        "pc = Pinecone(api_key=\"pcsk_6akU8Z_2BXXXDSBKbvFCn4sciNM2FeJC6PwAt6wFwQeQjoJKDSjysRbtyBAdUfRv6z87e6\")\n",
        "\n",
        "# Connect to index through the Pinecone client instance\n",
        "index = pc.Index(\"cus635\")\n",
        "\n"
      ],
      "metadata": {
        "id": "KBJ8L-FbyepZ"
      },
      "execution_count": 101,
      "outputs": []
    },
    {
      "cell_type": "markdown",
      "source": [
        "# Create Finance Investment Articles"
      ],
      "metadata": {
        "id": "ALragPWI2ARQ"
      }
    },
    {
      "cell_type": "code",
      "source": [
        "# Define finance-related investment articles\n",
        "investment_articles = [\n",
        "    {\"text\": \"Investing in stocks can provide high returns over time.\"},\n",
        "    {\"text\": \"Real estate investments can be lucrative with proper management.\"},\n",
        "    {\"text\": \"Cryptocurrency markets are volatile but can be profitable.\"},\n",
        "    {\"text\": \"Bonds are considered safer investments with lower risk.\"},\n",
        "    {\"text\": \"ETFs offer diversification and are popular among investors.\"},\n",
        "    {\"text\": \"The stock market can be unpredictable, requiring careful research.\"},\n",
        "    {\"text\": \"Mutual funds pool investors' money to invest in diversified assets.\"},\n",
        "    {\"text\": \"Investing in renewable energy stocks is becoming more popular.\"},\n",
        "    {\"text\": \"Venture capital is a high-risk, high-reward form of investment.\"},\n",
        "    {\"text\": \"Real estate can be a stable investment that appreciates over time.\"},\n",
        "    {\"text\": \"Commodities like gold and silver are used as hedges against inflation.\"},\n",
        "    {\"text\": \"Index funds track a market index and are passive investment vehicles.\"},\n",
        "    {\"text\": \"Foreign direct investment can provide significant returns in emerging markets.\"},\n",
        "    {\"text\": \"Impact investing focuses on generating social or environmental impact.\"},\n",
        "    {\"text\": \"Private equity investments are often less liquid but can yield high returns.\"},\n",
        "    {\"text\": \"Dividend-paying stocks provide regular income in addition to capital gains.\"},\n",
        "    {\"text\": \"Investing early allows for compounding interest to maximize wealth.\"},\n",
        "    {\"text\": \"Hedge funds use complex strategies to generate high returns for wealthy clients.\"},\n",
        "    {\"text\": \"Robo-advisors offer automated, low-cost investment management services.\"},\n",
        "    {\"text\": \"Investors should diversify portfolios to reduce overall risk exposure.\"},\n",
        "    {\"text\": \"Options trading can amplify returns but also increase potential losses.\"},\n",
        "    {\"text\": \"Infrastructure investments are growing as governments prioritize development.\"},\n",
        "    {\"text\": \"REITs offer a way to invest in real estate without direct ownership.\"},\n",
        "    {\"text\": \"Treasury bonds are considered one of the safest investments available.\"},\n",
        "    {\"text\": \"Crowdfunding platforms allow individuals to invest in startup ventures.\"},\n",
        "    {\"text\": \"High-yield savings accounts offer better returns than traditional checking.\"},\n",
        "    {\"text\": \"Annuities provide guaranteed income streams for retirees.\"},\n",
        "    {\"text\": \"Cryptocurrencies face regulation challenges but continue to attract interest.\"},\n",
        "    {\"text\": \"Blue-chip stocks are seen as stable, long-term investments.\"},\n",
        "    {\"text\": \"Micro-investing apps allow beginners to invest small amounts regularly.\"}\n",
        "]\n",
        "print(f\"Generated {len(embeddings)} embeddings.\")\n",
        "\n"
      ],
      "metadata": {
        "id": "B3Pc30kl2CXE",
        "outputId": "fb62c7ba-c387-4880-baaf-f21ec3c427aa",
        "colab": {
          "base_uri": "https://localhost:8080/"
        }
      },
      "execution_count": 98,
      "outputs": [
        {
          "output_type": "stream",
          "name": "stdout",
          "text": [
            "Generated 30 embeddings.\n"
          ]
        }
      ]
    },
    {
      "cell_type": "markdown",
      "source": [
        "# Initialize Pinecone and Insert Data"
      ],
      "metadata": {
        "id": "nQPuFyBv2N-Y"
      }
    },
    {
      "cell_type": "code",
      "source": [
        "\n",
        "PINECONE_API_KEY = \"pcsk_6akU8Z_2BXXXDSBKbvFCn4sciNM2FeJC6PwAt6wFwQeQjoJKDSjysRbtyBAdUfRv6z87e6\"\n",
        "\n",
        "# Load tokenizer and custom 1024-dimension static embedder\n",
        "tokenizer = Tokenizer.from_pretrained(\"google-bert/bert-base-uncased\")\n",
        "static_embedding = StaticEmbedding(tokenizer, embedding_dim=1024)\n",
        "model = SentenceTransformer(modules=[static_embedding])\n",
        "\n",
        "# Prepare your documents\n",
        "documents = [article['text'] for article in investment_articles]\n",
        "\n",
        "# Generate embeddings (dimension 1024)\n",
        "embeddings = model.encode(documents)\n",
        "\n",
        "# Connect to Pinecone\n",
        "pc = Pinecone(api_key=PINECONE_API_KEY)\n",
        "index_name = 'cus635'\n",
        "index = pc.Index(index_name)\n",
        "\n",
        "# Prepare and upsert vectors\n",
        "vectors = []\n",
        "for i, embedding in enumerate(embeddings):\n",
        "    vectors.append((\n",
        "        str(i),\n",
        "        embedding.tolist(),\n",
        "        {\n",
        "            'text': investment_articles[i]['text'],\n",
        "            'category': 'investment'\n",
        "        }\n",
        "    ))\n",
        "\n",
        "# Upload to namespace 'team 6'\n",
        "try:\n",
        "    index.upsert(vectors=vectors, namespace='team 6')\n",
        "    print(f\"{len(vectors)} investment articles uploaded successfully to namespace 'team 6'.\")\n",
        "except Exception as e:\n",
        "    print(f\"Error during upsert: {e}\")\n"
      ],
      "metadata": {
        "id": "H-Y1WaAy2PEO",
        "outputId": "931b9315-202e-448c-fdf2-1a567195fda0",
        "colab": {
          "base_uri": "https://localhost:8080/"
        }
      },
      "execution_count": 103,
      "outputs": [
        {
          "output_type": "stream",
          "name": "stdout",
          "text": [
            "30 investment articles uploaded successfully to namespace 'team 6'.\n"
          ]
        }
      ]
    },
    {
      "cell_type": "markdown",
      "source": [
        "# Query the Pinecone Index"
      ],
      "metadata": {
        "id": "VfKjbmgd2eRK"
      }
    },
    {
      "cell_type": "code",
      "source": [
        "# Query Search\n",
        "query = \"best investment strategies in 2025\"\n",
        "\n",
        "# Encode the query into a vector using your SentenceTransformer model\n",
        "query_vector = model.encode(query).tolist()\n",
        "\n",
        "results = index.query(\n",
        "    vector=query_vector,\n",
        "    top_k=5,\n",
        "    include_metadata=True,\n",
        "    namespace=\"team 6\"\n",
        ")\n",
        "\n",
        "print(f\"\\nTop results for: \\\"{query}\\\"\\n\")\n",
        "for i, match in enumerate(results['matches']):\n",
        "    print(f\"[{i}] Score: {match['score']:.3f}\")\n",
        "    print(f\"Text: {match['metadata']['text']}\\n\")"
      ],
      "metadata": {
        "id": "MsoKQOpJ2j9T",
        "outputId": "ff541654-f6a4-400f-f4b4-20d514100c05",
        "colab": {
          "base_uri": "https://localhost:8080/"
        }
      },
      "execution_count": 109,
      "outputs": [
        {
          "output_type": "stream",
          "name": "stdout",
          "text": [
            "\n",
            "Top results for: \"best investment strategies in 2025\"\n",
            "\n",
            "[0] Score: 0.276\n",
            "Text: Foreign direct investment can provide significant returns in emerging markets.\n",
            "\n",
            "[1] Score: 0.140\n",
            "Text: Index funds track a market index and are passive investment vehicles.\n",
            "\n",
            "[2] Score: 0.137\n",
            "Text: Mutual funds pool investors' money to invest in diversified assets.\n",
            "\n",
            "[3] Score: 0.132\n",
            "Text: Real estate can be a stable investment that appreciates over time.\n",
            "\n",
            "[4] Score: 0.126\n",
            "Text: Dividend-paying stocks provide regular income in addition to capital gains.\n",
            "\n"
          ]
        }
      ]
    }
  ]
}